{
  "cells": [
    {
      "cell_type": "markdown",
      "source": [
        "## CMM 262 Winter 2019 Midterm Single Cell Analysis Module"
      ],
      "metadata": {}
    },
    {
      "cell_type": "markdown",
      "source": [
        "**To upload:**\n",
        "Do this analysis in a jupyter notebook, open as HTML file, then save as PDF.\n"
      ],
      "metadata": {
        "nteract": {
          "transient": {
            "deleting": false
          }
        }
      }
    },
    {
      "cell_type": "markdown",
      "source": [
        "For this section of the midterm we are going to analyze a 10X dataset of 931 Brain Cells from an E18 Mouse using [scanpy](https://scanpy.readthedocs.io/en/latest/basic_usage.html)\n",
        "\n",
        "The data that you will need to analyze is located in: `/oasis/tscc/scratch/biom200/cmm262/Module_4/midterm_data`\n",
        "\n",
        "This directory contains `.mtx` and `.tsv` files."
      ],
      "metadata": {}
    },
    {
      "cell_type": "markdown",
      "source": [
        "### Importing necessary packages below:\n",
        "Below are the possible python packages that you may want to use in your analysis. If you use the packages below, remember that packages are called by whatever name you give them. For example, if you use the import functions as they are written below, we have written that we will use \"np\" when we call numpy. "
      ],
      "metadata": {}
    },
    {
      "cell_type": "code",
      "source": [
        "import scanpy.api as sc\n",
        "import pandas as pd\n",
        "import numpy as np\n",
        "import matplotlib.pyplot as plt\n",
        "from scipy.stats import mode\n",
        "import seaborn as sns\n",
        "sc.settings.verbosity = 3 # verbosity: errors (0), warnings (1), info (2), hints (3)\n",
        "sc.settings.set_figure_params(dpi=170, color_map='viridis')  # low dpi (dots per inch) yields small inline figures\n",
        "sc.logging.print_versions()"
      ],
      "outputs": [],
      "execution_count": null,
      "metadata": {}
    },
    {
      "cell_type": "markdown",
      "source": [
        "### The goal of this midterm is to first filter our data, determine which cells are most similar to each other (cluster the cells), and finally find some genes that are indicative of each cluster of cells."
      ],
      "metadata": {}
    },
    {
      "cell_type": "markdown",
      "source": [
        "### Loading data below:"
      ],
      "metadata": {}
    },
    {
      "cell_type": "markdown",
      "source": [
        "**Remember, data is in the path below:** \n",
        "`/oasis/tscc/scratch/biom200/cmm262/Module_4/midterm_data`"
      ],
      "metadata": {}
    },
    {
      "cell_type": "code",
      "source": [
        "adata = sc.read_10x_mtx('/oasis/tscc/scratch/biom200/cmm262/Module_4/midterm_data',  # the directory with the `.mtx` file\n",
        "    var_names='gene_symbols', # use gene symbols for the variable names (variables-axis index)\n",
        "    cache=True) # write a cache file for faster subsequent reading"
      ],
      "outputs": [],
      "execution_count": null,
      "metadata": {}
    },
    {
      "cell_type": "markdown",
      "source": [
        "---\n",
        "\n",
        "**Question 1 (2 pts):** Take a quick look at your data using violin plots. Plot both the number of counts per cell and genes per cell. \n",
        "\n",
        "*Note:* Use scanpy's violin plotting function"
      ],
      "metadata": {}
    },
    {
      "cell_type": "markdown",
      "source": [
        "**Question 2 (3 pts):** Now filter your dataset so that you are only left with:   \n",
        "    (A) cells that have at least 100 genes expressed in them, **AND**   \n",
        "    (B) genes that are expressed in at least 5 cells **AND**   \n",
        "    (C) filter out any genes that are expressed below a count of 15.  "
      ],
      "metadata": {}
    },
    {
      "cell_type": "markdown",
      "source": [
        "**Question 3 (1 pt):** How many cells and genes do you have left in your dataset adata?\n"
      ],
      "metadata": {}
    },
    {
      "cell_type": "markdown",
      "source": [
        "**Question 4 (3 pts):** \n",
        "  \n",
        "A) Normalize your dataset for total counts per cell and (library-size correct) the data matrix to CPM or \"counts per million\", so that counts become comparable among cells. \n",
        "\n",
        "B) Then log normalize the counts.\n",
        "    \n",
        "B) Why is it important to normalize your data by total counts per cell?"
      ],
      "metadata": {}
    },
    {
      "cell_type": "markdown",
      "source": [
        "**Question 5 (3 pts):**  Filter your dataset for only the variable genes. \n",
        "\n",
        "Scanpy uses normalized dispersion which is obtained by scaling with the mean and standard deviation of the dispersions for genes falling into a given bin for mean expression of genes. This means that for each bin of mean expression, highly variable genes are selected.\n",
        "\n",
        "A) Filter out genes with a minimum of 0.01 and a maximum mean of 5 and a minimum dispersion of 0.2 and show a plot of your data to visualize what genes you are filtering out and which you are keeping.\n",
        "\n",
        "B) How many genes do you have left in your dataset?\n",
        "\n",
        "C) Why do we only care about the genes that differ between the cells?"
      ],
      "metadata": {}
    },
    {
      "cell_type": "markdown",
      "source": [
        "**Question 6 (1 pt):** Why do we filter our dataset for highly variable genes?"
      ],
      "metadata": {}
    },
    {
      "cell_type": "markdown",
      "source": [
        "**Question 7 (2 pts):** Reduce the dimensionality of your dataset using PCA and produce a scatterplot showing the first two principle components colored with your favorite neuronal gene or any other gene that you didn't filter out."
      ],
      "metadata": {}
    },
    {
      "cell_type": "markdown",
      "source": [
        "**Question 8 (2 pts):**   \n",
        "(A) Inspect the contribution of single PCs to the total variance in the data. Provide a graph.   \n",
        "This gives us information about how many PCs we should consider in order to compute the neighborhood relations of cells.  \n",
        "(B) How will you decide how many PCs to use in your neighbor hood graph?"
      ],
      "metadata": {}
    },
    {
      "cell_type": "markdown",
      "source": [
        "**Question 9 (1 pt):** Compute the neighborhood graph with the number of PCs = 30 and the number of neighbors = 10"
      ],
      "metadata": {}
    },
    {
      "cell_type": "markdown",
      "source": [
        "**Question 10 (2 pts):** Compute and graph a tSNE plot using 30 PCs and color with your favorite gene."
      ],
      "metadata": {}
    },
    {
      "cell_type": "markdown",
      "source": [
        "**Question 11 (2 pts):** Cluster your data using Louvain's clustering algorithm using the default parameters. \n",
        "    How many clusters are there in your dataset?"
      ],
      "metadata": {}
    },
    {
      "cell_type": "markdown",
      "source": [
        "**Question 12 (3 pts):** Find marker genes in each of the clusters. Test each cluster against all of the other clusters combined. Show the top ten differentially expressed genes (by score - this is the default ranking) in each cluster in either a graph or table."
      ],
      "metadata": {}
    }
  ],
  "metadata": {
    "kernelspec": {
      "display_name": "Python 3",
      "language": "python",
      "name": "python3"
    },
    "language_info": {
      "name": "python",
      "version": "3.7.4",
      "mimetype": "text/x-python",
      "codemirror_mode": {
        "name": "ipython",
        "version": 3
      },
      "pygments_lexer": "ipython3",
      "nbconvert_exporter": "python",
      "file_extension": ".py"
    },
    "nteract": {
      "version": "0.21.0"
    }
  },
  "nbformat": 4,
  "nbformat_minor": 2
}